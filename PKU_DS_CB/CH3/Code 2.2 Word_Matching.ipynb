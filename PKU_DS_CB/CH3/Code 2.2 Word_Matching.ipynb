{
 "cells": [
  {
   "cell_type": "markdown",
   "metadata": {},
   "source": [
    "# We want to know,if two words are matched. These are anagram."
   ]
  },
  {
   "cell_type": "code",
   "execution_count": 1,
   "metadata": {},
   "outputs": [
    {
     "name": "stdout",
     "output_type": "stream",
     "text": [
      "True\n"
     ]
    }
   ],
   "source": [
    "# Algorithmus 1 \n",
    "# If all words of the first word appeared in the second word\n",
    "\n",
    "def anagram_solution1(s1, s2):\n",
    "    a_list = list(s1) # Put the s2 to a list\n",
    "    \n",
    "    pos1 = 0\n",
    "    still_ok = True #flag\n",
    "    \n",
    "    while pos1<len(s1) and still_ok:\n",
    "        pos2 = 0\n",
    "        found = False\n",
    "        \n",
    "        while pos2<len(a_list) and not found:\n",
    "            if s1[pos1] == a_list[pos2]:\n",
    "                found = True\n",
    "            else:\n",
    "                pos2 = pos2 + 1\n",
    "                \n",
    "        if found:\n",
    "            a_list[pos2] = None\n",
    "        else:\n",
    "            still_ok = false # flag=false\n",
    "        pos1 = pos1 + 1\n",
    "        \n",
    "    return still_ok\n",
    "\n",
    "print(anagram_solution1('abcd','dcba'))"
   ]
  },
  {
   "cell_type": "markdown",
   "metadata": {},
   "source": [
    "## Analyse for Algorithmus 1\n",
    "\n",
    "    Ignore the assignment statement. There are two iterations. So the time complexity(O(Algorithmus 1)) = n**2"
   ]
  },
  {
   "cell_type": "code",
   "execution_count": 2,
   "metadata": {},
   "outputs": [
    {
     "name": "stdout",
     "output_type": "stream",
     "text": [
      "True\n"
     ]
    }
   ],
   "source": [
    "## Algorithmus 2 Sort\n",
    "\n",
    "def anagram_Sort(s1,s2):\n",
    "    list_1 = list(s1)\n",
    "    list_2 = list(s1)\n",
    "    \n",
    "    list_1_sort = list_1.sort()\n",
    "    list_2_sort = list_2.sort()\n",
    "    \n",
    "    conclusion = 0 #flag\n",
    "    \n",
    "    if list_1_sort == list_2_sort:\n",
    "        conclusion = True\n",
    "    else:\n",
    "        conclusion = False\n",
    "        \n",
    "    return conclusion\n",
    "\n",
    "print(anagram_Sort('acdb','abcd'))\n",
    "        "
   ]
  },
  {
   "cell_type": "markdown",
   "metadata": {},
   "source": [
    "## Analyse for Algorithmus 2\n",
    "\n",
    "    O(nlogn) < O(Sort) < O(n**2)"
   ]
  },
  {
   "cell_type": "code",
   "execution_count": 3,
   "metadata": {},
   "outputs": [],
   "source": [
    "# Algorithmus 3 ENUM\n",
    "\n",
    "# We enumerate all situations. But this algorithmus is bad.\n"
   ]
  },
  {
   "cell_type": "markdown",
   "metadata": {},
   "source": [
    "## Analyse for Algorithmus 3\n",
    "    \n",
    "    O(enum) = n!\n",
    "    O(enum) >> n**n  -> SO BAD\n",
    "   "
   ]
  },
  {
   "cell_type": "code",
   "execution_count": 5,
   "metadata": {},
   "outputs": [
    {
     "name": "stdout",
     "output_type": "stream",
     "text": [
      "True\n"
     ]
    }
   ],
   "source": [
    "# Algorithmus 4 Count\n",
    "# Using ASCII Code\n",
    "\n",
    "def anagram_solution4(s1,s2):\n",
    "    C1 = [0] * 26\n",
    "    C2 = [0] * 26\n",
    "    for i in range(len(s1)):\n",
    "        pos = ord(s1[i])-ord('a') # calculate the ASCII for s1[i]\n",
    "        C1[pos] = C1[pos] + 1\n",
    "    for i in range(len(s2)):\n",
    "        Pos = ord(s2[i])-ord('a') #calculate the ASCII for s2[i]\n",
    "        C2[Pos] = C2[Pos] + 1\n",
    "        \n",
    "    j = 0\n",
    "    still_ok = True\n",
    "    while j < 26 and still_ok:\n",
    "        if C1[j] == C2[j]:\n",
    "            j = j + 1\n",
    "        else:\n",
    "            still_ok = False\n",
    "            \n",
    "    return still_ok\n",
    "\n",
    "print(anagram_solution4('apple','pleap'))"
   ]
  },
  {
   "cell_type": "markdown",
   "metadata": {},
   "source": [
    "## Analyse for Algorithmus 4\n",
    "\n",
    "    There are two iterations in this algorithmus. But they are parallel.So \n",
    "    O(Algorithmus 4) = n + n = 2n\n",
    "    Ignore the coefficient 2.\n",
    "    \n",
    "    O(Algorithmus 4) = n"
   ]
  },
  {
   "cell_type": "code",
   "execution_count": null,
   "metadata": {},
   "outputs": [],
   "source": []
  }
 ],
 "metadata": {
  "kernelspec": {
   "display_name": "Python 3",
   "language": "python",
   "name": "python3"
  },
  "language_info": {
   "codemirror_mode": {
    "name": "ipython",
    "version": 3
   },
   "file_extension": ".py",
   "mimetype": "text/x-python",
   "name": "python",
   "nbconvert_exporter": "python",
   "pygments_lexer": "ipython3",
   "version": "3.7.4"
  }
 },
 "nbformat": 4,
 "nbformat_minor": 2
}
