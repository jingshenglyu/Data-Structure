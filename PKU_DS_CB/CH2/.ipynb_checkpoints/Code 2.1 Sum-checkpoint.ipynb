{
 "cells": [
  {
   "cell_type": "code",
   "execution_count": 1,
   "metadata": {},
   "outputs": [
    {
     "name": "stdout",
     "output_type": "stream",
     "text": [
      "55\n"
     ]
    }
   ],
   "source": [
    "# sum of n\n",
    "\n",
    "def sum_of_n(n):\n",
    "    the_sum = 0\n",
    "    for i in range(1,n+1):\n",
    "        the_sum += i\n",
    "    return the_sum\n",
    "\n",
    "print(sum_of_n(10))"
   ]
  },
  {
   "cell_type": "code",
   "execution_count": 2,
   "metadata": {},
   "outputs": [
    {
     "name": "stdout",
     "output_type": "stream",
     "text": [
      "Sum is 50005000 required  0.0005407 seconds\n",
      "Sum is 50005000 required  0.0005729 seconds\n",
      "Sum is 50005000 required  0.0005085 seconds\n",
      "Sum is 50005000 required  0.0005457 seconds\n",
      "Sum is 50005000 required  0.0005255 seconds\n"
     ]
    }
   ],
   "source": [
    "# calculate the time complexity for the sum of n\n",
    "\n",
    "# Algorithmus 1 with iteration\n",
    "\n",
    "import time\n",
    "\n",
    "def sum_of_n_2(n):\n",
    "    start = time.time()  # Using .time() to calculate the time\n",
    "    the_sum = 0  # Init\n",
    "    for i in range(1, n+1):\n",
    "        the_sum += i\n",
    "    end = time.time()\n",
    "    \n",
    "    return the_sum,end-start\n",
    "\n",
    "for i in range(5):\n",
    "    print(\"Sum is %d required %10.7f seconds\" %sum_of_n_2(10000))"
   ]
  },
  {
   "cell_type": "code",
   "execution_count": 3,
   "metadata": {},
   "outputs": [],
   "source": [
    "# ? the time is not right."
   ]
  },
  {
   "cell_type": "code",
   "execution_count": 18,
   "metadata": {},
   "outputs": [
    {
     "name": "stdout",
     "output_type": "stream",
     "text": [
      "Sum is 500000500000 required  0.0552719 seconds\n",
      "Required 0.0000493526 seconds\n"
     ]
    }
   ],
   "source": [
    "# Compare 2 Algorithmus\n",
    "\n",
    "import time\n",
    "\n",
    "# Algorithmus 1 with iteration\n",
    "\n",
    "def sum_of_n_2(n):\n",
    "    start = time.time()  # Using .time() to calculate the time\n",
    "    the_sum = 0  # Init\n",
    "    for i in range(1, n+1):\n",
    "        the_sum += i\n",
    "    end = time.time()\n",
    "    \n",
    "    return the_sum,end-start\n",
    "\n",
    "print(\"Sum is %d required %10.7f seconds\" %sum_of_n_2(1000000))\n",
    "\n",
    "# Algorithmus 2 without iteration\n",
    "\n",
    "def sum_of_n_3(n):  \n",
    "    return (n*(n+1)/2)  # SUM = ((<First item > + <Last item>) * <number of items>) / 2\n",
    "\n",
    "start_3 = time.time()\n",
    "sum_of_n_3(1000000)\n",
    "end_3 = time.time()\n",
    "\n",
    "print(\"Required %10.10f seconds\" %(end_3 - start_3))"
   ]
  },
  {
   "cell_type": "markdown",
   "metadata": {},
   "source": [
    "# Conclusion:\n",
    "# Algorithmus 2 is better than algorithmus 1. It costes less time."
   ]
  },
  {
   "cell_type": "code",
   "execution_count": null,
   "metadata": {},
   "outputs": [],
   "source": []
  }
 ],
 "metadata": {
  "kernelspec": {
   "display_name": "Python 3",
   "language": "python",
   "name": "python3"
  },
  "language_info": {
   "codemirror_mode": {
    "name": "ipython",
    "version": 3
   },
   "file_extension": ".py",
   "mimetype": "text/x-python",
   "name": "python",
   "nbconvert_exporter": "python",
   "pygments_lexer": "ipython3",
   "version": "3.7.4"
  }
 },
 "nbformat": 4,
 "nbformat_minor": 2
}
