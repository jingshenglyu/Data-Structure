{
 "cells": [
  {
   "cell_type": "markdown",
   "metadata": {},
   "source": [
    "# 创建列表\n",
    "\n"
   ]
  },
  {
   "cell_type": "code",
   "execution_count": 1,
   "metadata": {},
   "outputs": [],
   "source": [
    "# Algo 1\n",
    "def test1():\n",
    "    l = []\n",
    "    for i in range(1000):\n",
    "        l = l + [i]\n",
    "        \n",
    "# Algo 2\n",
    "def test2():\n",
    "    l = []\n",
    "    for i in range(1000):\n",
    "        l.append(i)\n",
    "        \n",
    "# Algo 3\n",
    "def test3():\n",
    "    l = [i for i in range(1000)]\n",
    "    \n",
    "# Algo 4\n",
    "def test4():\n",
    "    l = list(range(1000))"
   ]
  },
  {
   "cell_type": "code",
   "execution_count": 2,
   "metadata": {},
   "outputs": [
    {
     "name": "stdout",
     "output_type": "stream",
     "text": [
      "concat 1.093353 seconds\n",
      "\n",
      "append 0.067322 seconds\n",
      "\n",
      "comprehension 0.029884 seconds\n",
      "\n",
      "list range 0.019389 seconds\n",
      "\n"
     ]
    }
   ],
   "source": [
    "# Calculate the time complexity(in s)\n",
    "\n",
    "#import the timeit mudule\n",
    "import timeit\n",
    "#Import the Timer class defined in the module\n",
    "from timeit import Timer\n",
    "\n",
    "#If the above line is excluded, you need to replace Timer with timeit.Timer when defining a Timer object\n",
    "t1 = Timer(\"test1()\", \"from __main__ import test1\") \n",
    "#from \"__main__\" namespace call test1(), and push it to the namespace-timeit\n",
    "print(\"concat %f seconds\\n\" %t1.timeit(number=1000))\n",
    "\n",
    "t2 = Timer(\"test2()\", \"from __main__ import test2\")\n",
    "print(\"append %f seconds\\n\" %t2.timeit(number=1000))\n",
    "\n",
    "t3 = Timer(\"test3()\", \"from __main__ import test3\")\n",
    "print(\"comprehension %f seconds\\n\" %t3.timeit(number=1000))\n",
    "\n",
    "t4 = Timer(\"test4()\", \"from __main__ import test4\")\n",
    "print(\"list range %f seconds\\n\" %t4.timeit(number=1000))"
   ]
  },
  {
   "cell_type": "markdown",
   "metadata": {},
   "source": [
    "## Conclusion:\n",
    "    list(range()) is the best algorithmus.\n",
    "    \n",
    "    O(pop()) = 1\n",
    "    O(pop(i)) = n"
   ]
  },
  {
   "cell_type": "code",
   "execution_count": 3,
   "metadata": {},
   "outputs": [
    {
     "name": "stdout",
     "output_type": "stream",
     "text": [
      "pop(0)    pop(i)\n",
      "        0.73235,         0.00007\n",
      "        1.63729,         0.00007\n",
      "        2.63563,         0.00007\n",
      "        3.65563,         0.00007\n",
      "        4.60391,         0.00007\n",
      "        5.68019,         0.00007\n",
      "        6.06583,         0.00007\n",
      "        7.76388,         0.00008\n",
      "        8.63972,         0.00009\n",
      "        9.97214,         0.00012\n"
     ]
    }
   ],
   "source": [
    "# list.pop() VS list.pop(i)\n",
    "\n",
    "import timeit\n",
    "popzero = timeit.Timer(\"x.pop(0)\", \"from __main__ import x\")\n",
    "popend = timeit.Timer(\"x.pop()\", \"from __main__ import x\")\n",
    "print(\"pop(0)    pop(i)\")\n",
    "\n",
    "for i in range(1000000, 10000001, 1000000):\n",
    "    x = list(range(i))\n",
    "    pt = popend.timeit(number=1000)\n",
    "    #x = list(range(i))\n",
    "    pz = popzero.timeit(number=1000)\n",
    "    print(\"%15.5f, %15.5f\" %(pz, pt))"
   ]
  },
  {
   "cell_type": "code",
   "execution_count": 4,
   "metadata": {},
   "outputs": [
    {
     "name": "stdout",
     "output_type": "stream",
     "text": [
      "10000,      0.153,      0.002\n",
      "20000,      0.285,      0.002\n",
      "30000,      0.404,      0.002\n",
      "40000,      0.506,      0.002\n",
      "50000,      0.595,      0.002\n",
      "60000,      0.647,      0.001\n",
      "70000,      0.809,      0.002\n",
      "80000,      1.319,      0.002\n",
      "90000,      1.227,      0.002\n",
      "100000,      1.274,      0.002\n"
     ]
    }
   ],
   "source": [
    "# list() VS dict()\n",
    "\n",
    "import timeit\n",
    "import random\n",
    "\n",
    "for i in range(10000,100001,10000):\n",
    "    t = timeit.Timer(\"random.randrange(%d) in x\" %i,\"from __main__ import random, x\")\n",
    "    \n",
    "    x = list(range(i))\n",
    "    lst_time = t.timeit(number=1000)\n",
    "    x = {j:None for j in range(i)}\n",
    "    d_time = t.timeit(number=1000)\n",
    "    print(\"%d, %10.3f, %10.3f\" %(i, lst_time, d_time))"
   ]
  },
  {
   "cell_type": "markdown",
   "metadata": {},
   "source": [
    "## Conclusion:\n",
    "\n",
    "    O(dict()) = 1    dict() don't depend on the number of the data.\n",
    "    O(list()) = n    list() depend on the number of the data."
   ]
  },
  {
   "cell_type": "code",
   "execution_count": null,
   "metadata": {},
   "outputs": [],
   "source": []
  }
 ],
 "metadata": {
  "kernelspec": {
   "display_name": "Python 3",
   "language": "python",
   "name": "python3"
  },
  "language_info": {
   "codemirror_mode": {
    "name": "ipython",
    "version": 3
   },
   "file_extension": ".py",
   "mimetype": "text/x-python",
   "name": "python",
   "nbconvert_exporter": "python",
   "pygments_lexer": "ipython3",
   "version": "3.7.4"
  }
 },
 "nbformat": 4,
 "nbformat_minor": 2
}
